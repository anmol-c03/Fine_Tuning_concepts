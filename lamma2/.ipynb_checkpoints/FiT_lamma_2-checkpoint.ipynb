{
 "cells": [
  {
   "cell_type": "markdown",
   "id": "9210308d-3dbc-47f4-812c-2e437c89b36e",
   "metadata": {},
   "source": [
    "# Fine Tuning\n",
    "Fine Tuning is done using PEFT(Parameters Efficient Fine Tuning) and LORA(Low Order Rank Adaptation)"
   ]
  },
  {
   "cell_type": "code",
   "execution_count": null,
   "id": "2890d3d0-a32e-49d5-b46e-406308572690",
   "metadata": {},
   "outputs": [],
   "source": []
  }
 ],
 "metadata": {
  "kernelspec": {
   "display_name": "Python 3 (ipykernel)",
   "language": "python",
   "name": "python3"
  },
  "language_info": {
   "codemirror_mode": {
    "name": "ipython",
    "version": 3
   },
   "file_extension": ".py",
   "mimetype": "text/x-python",
   "name": "python",
   "nbconvert_exporter": "python",
   "pygments_lexer": "ipython3",
   "version": "3.11.2"
  }
 },
 "nbformat": 4,
 "nbformat_minor": 5
}
